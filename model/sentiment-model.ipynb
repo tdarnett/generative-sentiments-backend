{
 "cells": [
  {
   "cell_type": "markdown",
   "metadata": {},
   "source": [
    "# Generative Sentiments NLP Model"
   ]
  },
  {
   "cell_type": "markdown",
   "metadata": {},
   "source": [
    "This notebook inplements a bidirectional LSTM model used to classify an emotional sentence into one of 6 emotions:\n",
    "- Anger\n",
    "- Sadness\n",
    "- Joy\n",
    "- Fear\n",
    "- Surprise\n",
    "- Love"
   ]
  },
  {
   "cell_type": "code",
   "execution_count": null,
   "metadata": {},
   "outputs": [],
   "source": [
    "import numpy as np\n",
    "import pandas as pd\n",
    "import matplotlib.pyplot as plt\n",
    "import seaborn as sns"
   ]
  },
  {
   "cell_type": "code",
   "execution_count": null,
   "metadata": {},
   "outputs": [],
   "source": [
    "train_df = pd.read_csv(\"data/train.txt\", delimiter=';', header=None, names=['sentence','label'])"
   ]
  },
  {
   "cell_type": "code",
   "execution_count": null,
   "metadata": {},
   "outputs": [],
   "source": [
    "train_df.head()"
   ]
  },
  {
   "cell_type": "code",
   "execution_count": null,
   "metadata": {},
   "outputs": [],
   "source": [
    "sns.countplot(train_df['label'])"
   ]
  },
  {
   "cell_type": "code",
   "execution_count": null,
   "metadata": {},
   "outputs": [],
   "source": [
    "MAX_LENGTH = 100 # max length of any input sentance in the data\n",
    "MAX_WORDS = 20000"
   ]
  },
  {
   "cell_type": "markdown",
   "metadata": {},
   "source": [
    "## Preprocessing"
   ]
  },
  {
   "cell_type": "code",
   "execution_count": null,
   "metadata": {},
   "outputs": [],
   "source": [
    "import string\n",
    "import nltk\n",
    "from nltk.corpus import stopwords\n",
    "nltk.download('stopwords')"
   ]
  },
  {
   "cell_type": "code",
   "execution_count": null,
   "metadata": {},
   "outputs": [],
   "source": [
    "def clean_stopwords(text):\n",
    "    \"\"\"\n",
    "    remove simple words that don't help understand the sentiment all that well\n",
    "    \"\"\"\n",
    "    return [word for word in text.split() if word.lower() not in stopwords.words('english')]"
   ]
  },
  {
   "cell_type": "code",
   "execution_count": null,
   "metadata": {},
   "outputs": [],
   "source": [
    "text = train_df['sentence'].apply(clean_stopwords)"
   ]
  },
  {
   "cell_type": "code",
   "execution_count": null,
   "metadata": {},
   "outputs": [],
   "source": [
    "from keras.preprocessing.text import Tokenizer\n",
    "from keras.preprocessing.sequence import pad_sequences"
   ]
  },
  {
   "cell_type": "code",
   "execution_count": null,
   "metadata": {},
   "outputs": [],
   "source": [
    "tokenizer = Tokenizer(num_words=MAX_WORDS)\n",
    "tokenizer.fit_on_texts(text) "
   ]
  },
  {
   "cell_type": "code",
   "execution_count": null,
   "metadata": {},
   "outputs": [],
   "source": [
    "#save tokenizer\n",
    "import pickle\n",
    "with open('tokenizer.pickle', 'wb') as handle:\n",
    "    pickle.dump(tokenizer, handle, protocol=pickle.HIGHEST_PROTOCOL)"
   ]
  },
  {
   "cell_type": "code",
   "execution_count": null,
   "metadata": {},
   "outputs": [],
   "source": [
    "def pad_and_tokenize(text):\n",
    "    sequences = tokenizer.texts_to_sequences(text)\n",
    "\n",
    "    data = pad_sequences(sequences, maxlen=MAX_LENGTH)\n",
    "    \n",
    "    return data"
   ]
  },
  {
   "cell_type": "code",
   "execution_count": null,
   "metadata": {},
   "outputs": [],
   "source": [
    "X = pad_and_tokenize(text)\n",
    "X.shape # expecting (16000, 100)"
   ]
  },
  {
   "cell_type": "markdown",
   "metadata": {},
   "source": [
    "## Generate Y Data"
   ]
  },
  {
   "cell_type": "code",
   "execution_count": null,
   "metadata": {},
   "outputs": [],
   "source": [
    "from sklearn.preprocessing import LabelEncoder\n",
    "from keras.utils import np_utils"
   ]
  },
  {
   "cell_type": "code",
   "execution_count": null,
   "metadata": {},
   "outputs": [],
   "source": [
    "def encode_y_data(train_df):\n",
    "    encoder = LabelEncoder()\n",
    "    \n",
    "    y = encoder.fit_transform(train_df['label'])\n",
    "    y_data = np_utils.to_categorical(y)\n",
    "    \n",
    "    # save the encoded classes so we can decode later on\n",
    "    np.save('classes.npy', encoder.classes_)\n",
    "    \n",
    "    return y_data"
   ]
  },
  {
   "cell_type": "code",
   "execution_count": null,
   "metadata": {},
   "outputs": [],
   "source": [
    "Y = encode_y_data(train_df)\n",
    "Y.shape # expecting (16000, 6) because we have 6 labels\n",
    "Y"
   ]
  },
  {
   "cell_type": "markdown",
   "metadata": {},
   "source": [
    "## Split train and test sets"
   ]
  },
  {
   "cell_type": "code",
   "execution_count": null,
   "metadata": {},
   "outputs": [],
   "source": [
    "X_train= X[:13000]  # TODO change ratios\n",
    "Y_train= Y[:13000]\n",
    "X_test= X[13000:]\n",
    "Y_test= Y[13000:]"
   ]
  },
  {
   "cell_type": "markdown",
   "metadata": {},
   "source": [
    "## Build Model"
   ]
  },
  {
   "cell_type": "code",
   "execution_count": null,
   "metadata": {},
   "outputs": [],
   "source": [
    "from tensorflow.keras.models import Sequential\n",
    "from tensorflow.keras.layers import Embedding, Dropout, Dense, Bidirectional, LSTM"
   ]
  },
  {
   "cell_type": "code",
   "execution_count": null,
   "metadata": {},
   "outputs": [],
   "source": [
    "def model(Y):\n",
    "    model = Sequential()\n",
    "    \n",
    "    model.add(Embedding(MAX_WORDS, 64, input_length=MAX_LENGTH))\n",
    "    \n",
    "    model.add(Bidirectional(LSTM(128)))\n",
    "    \n",
    "    model.add(Dropout(0.7))\n",
    "    \n",
    "    model.add(Dense(32, activation='relu'))\n",
    "    \n",
    "    model.add(Dense(Y.shape[1], activation='softmax'))\n",
    "    \n",
    "    return model"
   ]
  },
  {
   "cell_type": "code",
   "execution_count": null,
   "metadata": {},
   "outputs": [],
   "source": [
    "model = model(Y)\n",
    "model.summary()"
   ]
  },
  {
   "cell_type": "code",
   "execution_count": null,
   "metadata": {},
   "outputs": [],
   "source": [
    "model.compile(optimizer='adam', loss='categorical_crossentropy', metrics=['accuracy'])"
   ]
  },
  {
   "cell_type": "markdown",
   "metadata": {},
   "source": [
    "## Train the model"
   ]
  },
  {
   "cell_type": "code",
   "execution_count": null,
   "metadata": {},
   "outputs": [],
   "source": [
    "# use an early stopper for performance\n",
    "from tensorflow.keras.callbacks import EarlyStopping"
   ]
  },
  {
   "cell_type": "code",
   "execution_count": null,
   "metadata": {},
   "outputs": [],
   "source": [
    "early_stopper = EarlyStopping(monitor='val_loss')\n",
    "\n",
    "model.fit(X_train, Y_train, validation_data=(X_test, Y_test), epochs=5, callbacks=[early_stopper])"
   ]
  },
  {
   "cell_type": "markdown",
   "metadata": {},
   "source": [
    "## Prediction Utils"
   ]
  },
  {
   "cell_type": "code",
   "execution_count": null,
   "metadata": {},
   "outputs": [],
   "source": [
    "def pad_and_tokenize(text):\n",
    "    sequences = tokenizer.texts_to_sequences(text)\n",
    "\n",
    "    data = pad_sequences(sequences, maxlen=MAX_LENGTH)\n",
    "    \n",
    "    return data"
   ]
  },
  {
   "cell_type": "code",
   "execution_count": null,
   "metadata": {},
   "outputs": [],
   "source": [
    "def predict(sentence):\n",
    "    \"\"\"\n",
    "    takes an english sentance and uses the trained model to predict the emotion\n",
    "    \"\"\"\n",
    "    input_sentence = np.array([sentence])\n",
    "    tokenized_sentence = pad_and_tokenize(input_sentence)\n",
    "    \n",
    "    # pass tokenized sentence to trained model\n",
    "    prediction = model.predict(tokenized_sentence)\n",
    "    \n",
    "    confidence = np.max(prediction)\n",
    "    label_idx = np.argmax(prediction)\n",
    "    \n",
    "    result = np.array([label_idx])\n",
    "    \n",
    "    # load the saved encoder classes so we can decode the label properly\n",
    "    encoder = LabelEncoder()\n",
    "    encoder.classes_ = np.load('classes.npy', allow_pickle=True)\n",
    "    \n",
    "    label = encoder.inverse_transform(result)\n",
    "    \n",
    "    return label[0], confidence"
   ]
  },
  {
   "cell_type": "markdown",
   "metadata": {},
   "source": [
    "## Manually Testing"
   ]
  },
  {
   "cell_type": "code",
   "execution_count": null,
   "metadata": {},
   "outputs": [],
   "source": [
    "sentence = 'I feel inspired'\n",
    "label, confidence = predict(sentence)\n",
    "print(f'Label: {label}')\n",
    "print(f'Confidence: {confidence}')"
   ]
  },
  {
   "cell_type": "markdown",
   "metadata": {},
   "source": [
    "## Save the model"
   ]
  },
  {
   "cell_type": "code",
   "execution_count": null,
   "metadata": {},
   "outputs": [],
   "source": [
    "# model.save('data/sentiment-model')\n",
    "# from tensorflow.keras.models import save_model\n",
    "# VERSION = 1\n",
    "# save_model(\n",
    "#     model,\n",
    "#     'generative-sentiments/f{VERSION}',\n",
    "#     overwrite=True,\n",
    "#     include_optimizer=True,\n",
    "#     save_format=None,\n",
    "#     signatures=None,\n",
    "#     options=None\n",
    "# )\n"
   ]
  }
 ],
 "metadata": {
  "kernelspec": {
   "display_name": "Python [conda env:test]",
   "language": "python",
   "name": "conda-env-test-py"
  },
  "language_info": {
   "codemirror_mode": {
    "name": "ipython",
    "version": 3
   },
   "file_extension": ".py",
   "mimetype": "text/x-python",
   "name": "python",
   "nbconvert_exporter": "python",
   "pygments_lexer": "ipython3",
   "version": "3.7.7"
  }
 },
 "nbformat": 4,
 "nbformat_minor": 2
}
